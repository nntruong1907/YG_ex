{
 "cells": [
  {
   "cell_type": "code",
   "execution_count": null,
   "id": "9806b61c",
   "metadata": {
    "scrolled": true
   },
   "outputs": [],
   "source": [
    "!python.exe -m pip install --upgrade pip"
   ]
  },
  {
   "cell_type": "code",
   "execution_count": null,
   "id": "bedc2d60",
   "metadata": {},
   "outputs": [],
   "source": [
    "!pip install requests openpyxl"
   ]
  },
  {
   "cell_type": "code",
   "execution_count": null,
   "id": "48c6d851",
   "metadata": {},
   "outputs": [],
   "source": [
    "import os\n",
    "import requests\n",
    "import openpyxl\n",
    "\n",
    "def download_images_from_file(file_path, output_folder, failed_images_wb):\n",
    "    # Tạo thư mục đầu ra nếu chưa tồn tại\n",
    "    if not os.path.exists(output_folder):\n",
    "        os.makedirs(output_folder)\n",
    "\n",
    "    with open(file_path, 'r') as file:\n",
    "        # Lấy tên của file txt (bỏ phần đuôi .txt)\n",
    "        file_name = os.path.splitext(os.path.basename(file_path))[0]\n",
    "\n",
    "        # Tạo thư mục con trong thư mục đầu ra với tên của file txt\n",
    "        output_subfolder = os.path.join(output_folder, file_name)\n",
    "        if not os.path.exists(output_subfolder):\n",
    "            os.makedirs(output_subfolder)\n",
    "\n",
    "        lines = file.readlines()\n",
    "        for line in lines:\n",
    "            # Tách tên tệp và đường dẫn ảnh từ mỗi dòng trong file txt\n",
    "            image_name, image_url = line.strip().split('\\t')\n",
    "\n",
    "            # Tạo đường dẫn lưu trữ hình ảnh đã tải xuống\n",
    "            save_path = os.path.join(output_subfolder, image_name.split('/')[1])\n",
    "\n",
    "            # Tải xuống hình ảnh và lưu vào thư mục con tương ứng\n",
    "            try:\n",
    "                response = requests.get(image_url)\n",
    "                response.raise_for_status()\n",
    "                with open(save_path, 'wb') as img_file:\n",
    "                    img_file.write(response.content)\n",
    "                print(f\"Tải xuống {image_name} thành công.\")\n",
    "            except requests.exceptions.RequestException as e:\n",
    "                print(f\"Lỗi trong quá trình tải xuống {image_name}: {e}\")\n",
    "                # Lưu thông tin file không tải được vào file Excel\n",
    "                failed_images_wb.append([file_name, image_name, image_url, str(e)])\n",
    "\n",
    "# Đường dẫn đến thư mục chứa các file txt\n",
    "folder_path = 'yoga_dataset_links'\n",
    "\n",
    "# Lấy danh sách các file txt trong thư mục\n",
    "file_list = [f for f in os.listdir(folder_path) if f.endswith('.txt')]\n",
    "\n",
    "# Thư mục đầu ra để lưu trữ hình ảnh\n",
    "output_folder = 'output_images'\n",
    "\n",
    "# Khởi tạo một workbook để lưu thông tin về các file không tải được\n",
    "failed_images_wb = openpyxl.Workbook()\n",
    "failed_images_sheet = failed_images_wb.active\n",
    "failed_images_sheet.append(['File txt', 'Tên ảnh', 'Đường dẫn', 'Lỗi'])\n",
    "\n",
    "# Duyệt qua từng file txt và thực hiện tải xuống\n",
    "for file in file_list:\n",
    "    file_path = os.path.join(folder_path, file)\n",
    "    download_images_from_file(file_path, output_folder, failed_images_sheet)\n",
    "\n",
    "# Lưu workbook chứa thông tin về các file không tải được vào file Excel\n",
    "failed_images_wb.save('failed_images.xlsx')\n"
   ]
  },
  {
   "cell_type": "markdown",
   "id": "cd90c821",
   "metadata": {},
   "source": [
    "# Split file "
   ]
  },
  {
   "cell_type": "code",
   "execution_count": null,
   "id": "c5fc4bb1",
   "metadata": {},
   "outputs": [],
   "source": [
    "import os\n",
    "import shutil\n",
    "import math\n",
    "import re\n",
    "\n",
    "def split_files_into_folders(input_folder, output_folder_base, files_per_folder):\n",
    "    # Tạo thư mục đầu ra nếu chúng không tồn tại\n",
    "    if not os.path.exists(output_folder_base):\n",
    "        os.makedirs(output_folder_base)\n",
    "\n",
    "    # Lấy danh sách tất cả các tệp tin trong thư mục đầu vào và sắp xếp theo tên\n",
    "    file_list = os.listdir(input_folder)\n",
    "    file_list.sort(key=lambda x: int(re.sub('\\D', '', x)))  # Sắp xếp theo số trong tên tệp\n",
    "    total_files = len(file_list)\n",
    "\n",
    "    # Tính toán số lượng thư mục cần thiết\n",
    "    num_folders = math.ceil(total_files / files_per_folder)\n",
    "\n",
    "    # Di chuyển tệp tin vào các thư mục đầu ra\n",
    "    for i in range(num_folders):\n",
    "        # Tạo thư mục con\n",
    "        output_folder = os.path.join(output_folder_base, f\"yoga_dataset_links {i + 1}\")\n",
    "        os.makedirs(output_folder, exist_ok=True)\n",
    "\n",
    "        # Lấy danh sách các tệp tin cần di chuyển vào thư mục đầu ra\n",
    "        start_idx = i * files_per_folder\n",
    "        end_idx = min((i + 1) * files_per_folder, total_files)\n",
    "        files_to_move = file_list[start_idx:end_idx]\n",
    "\n",
    "        # Di chuyển các tệp tin vào thư mục đầu ra\n",
    "        for file_name in files_to_move:\n",
    "            src_path = os.path.join(input_folder, file_name)\n",
    "            dst_path = os.path.join(output_folder, file_name)\n",
    "            shutil.copy(src_path, dst_path)"
   ]
  },
  {
   "cell_type": "code",
   "execution_count": null,
   "id": "e3f5e2e6",
   "metadata": {},
   "outputs": [],
   "source": [
    "# Sử dụng hàm để chia các tệp trong thư mục \"yoga_dataset_links\" thành các thư mục đầu ra\n",
    "# với số lượng tệp tin mỗi thư mục là 4\n",
    "split_files_into_folders(\"yoga_dataset_links\", \"./\", 4)"
   ]
  },
  {
   "cell_type": "markdown",
   "id": "c988fe33",
   "metadata": {},
   "source": [
    "# Combined xlsx"
   ]
  },
  {
   "cell_type": "code",
   "execution_count": null,
   "id": "8bf5293b",
   "metadata": {},
   "outputs": [],
   "source": [
    "import openpyxl\n",
    "import os\n",
    "import re\n",
    "\n",
    "def combine_xlsx_files(folder_path, combined_xlsx_path):\n",
    "    # Lấy danh sách tên các tệp Excel trong thư mục\n",
    "    xlsx_files = [f for f in os.listdir(folder_path) if f.endswith('.xlsx')]\n",
    "    xlsx_files.sort(key=lambda x: int(re.sub('\\D', '', x)))  # Sắp xếp theo số trong tên tệp\n",
    "    \n",
    "    # Tạo một Workbook mới\n",
    "    combined_workbook = openpyxl.Workbook()\n",
    "    combined_sheet = combined_workbook.active\n",
    "    combined_sheet.append(['File txt', 'Tên ảnh', 'Đường dẫn', 'Lỗi'])\n",
    "\n",
    "    # Duyệt qua từng tệp Excel và sao chép nội dung vào tệp kết hợp\n",
    "    for xlsx_file in xlsx_files:\n",
    "        xlsx_file_path = os.path.join(folder_path, xlsx_file)\n",
    "        wb = openpyxl.load_workbook(xlsx_file_path)\n",
    "        sheet = wb.active\n",
    "\n",
    "        # Duyệt qua từng hàng và cột trong tệp Excel và sao chép dữ liệu\n",
    "        for row in sheet.iter_rows(min_row=2, max_row=sheet.max_row, values_only=True):\n",
    "            combined_sheet.append(row)\n",
    "\n",
    "    # Lưu tệp kết hợp\n",
    "    combined_workbook.save(combined_xlsx_path)\n",
    "\n",
    "    print(f\"Đã nối và lưu thành công vào {combined_xlsx_path}\")\n"
   ]
  },
  {
   "cell_type": "code",
   "execution_count": null,
   "id": "a9477fd2",
   "metadata": {},
   "outputs": [],
   "source": [
    "folder_path = \"failed_images\"\n",
    "combined_xlsx_path = \"failed_images.xlsx\"\n",
    "combine_xlsx_files(folder_path, combined_xlsx_path)"
   ]
  }
 ],
 "metadata": {
  "kernelspec": {
   "display_name": "Python 3 (ipykernel)",
   "language": "python",
   "name": "python3"
  },
  "language_info": {
   "codemirror_mode": {
    "name": "ipython",
    "version": 3
   },
   "file_extension": ".py",
   "mimetype": "text/x-python",
   "name": "python",
   "nbconvert_exporter": "python",
   "pygments_lexer": "ipython3",
   "version": "3.8.8"
  }
 },
 "nbformat": 4,
 "nbformat_minor": 5
}
