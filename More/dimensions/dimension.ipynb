{
 "cells": [
  {
   "cell_type": "code",
   "execution_count": 10,
   "id": "47f5a05a",
   "metadata": {},
   "outputs": [
    {
     "name": "stdout",
     "output_type": "stream",
     "text": [
      "Requirement already satisfied: openpyxl in c:\\users\\lenovo\\appdata\\local\\programs\\python\\python38\\lib\\site-packages (3.1.2)\n",
      "Requirement already satisfied: et-xmlfile in c:\\users\\lenovo\\appdata\\local\\programs\\python\\python38\\lib\\site-packages (from openpyxl) (1.1.0)\n"
     ]
    },
    {
     "name": "stderr",
     "output_type": "stream",
     "text": [
      "\n",
      "[notice] A new release of pip is available: 23.2.1 -> 23.3.1\n",
      "[notice] To update, run: python.exe -m pip install --upgrade pip\n"
     ]
    }
   ],
   "source": [
    "!pip install openpyxl"
   ]
  },
  {
   "cell_type": "code",
   "execution_count": null,
   "id": "2fd200ea",
   "metadata": {},
   "outputs": [],
   "source": [
    "from PIL import Image\n",
    "import os\n",
    "import openpyxl\n",
    "\n",
    "def thong_ke_kich_thuoc(folder_path):\n",
    "    # Khởi tạo biến đếm\n",
    "    tong_so_hinh_anh = 0\n",
    "    tong_kich_thuoc = 0\n",
    "\n",
    "    # Lặp qua tất cả các tệp trong thư mục\n",
    "    for file_name in os.listdir(folder_path):\n",
    "        file_path = os.path.join(folder_path, file_name)\n",
    "        # Kiểm tra nếu tệp là hình ảnh\n",
    "        if os.path.isfile(file_path) and file_name.lower().endswith(('.png', '.jpg', '.jpeg')):\n",
    "            # Mở hình ảnh để lấy kích thước\n",
    "            try:\n",
    "                with Image.open(file_path) as img:\n",
    "                    width, height = img.size\n",
    "                    print(f\"{file_name}: {width}x{height}\")\n",
    "                    tong_so_hinh_anh += 1\n",
    "                    tong_kich_thuoc += width * height\n",
    "            except Exception as e:\n",
    "                print(f\"Lỗi khi mở {file_name}: {e}\")\n",
    "\n",
    "    # In tổng kết\n",
    "    if tong_so_hinh_anh > 0:\n",
    "        trung_binh_kich_thuoc = tong_kich_thuoc / tong_so_hinh_anh\n",
    "        print(\"-\"*100)\n",
    "        print(f\"Tổng số hình ảnh: {tong_so_hinh_anh}\")\n",
    "        print(f\"Tổng kích thước: {tong_kich_thuoc} pixels\")\n",
    "        print(f\"Kích thước trung bình: {trung_binh_kich_thuoc} pixels\")\n",
    "    return tong_so_hinh_anh, tong_kich_thuoc, trung_binh_kich_thuoc\n",
    "\n",
    "\n",
    "folder_path = \"yoga_origin\"\n",
    "\n",
    "\n",
    "# Khởi tạo một workbook\n",
    "wb = openpyxl.Workbook()\n",
    "sheet = wb.active\n",
    "sheet.append(['Class', 'Tổng số hình ảnh', 'Tổng kích thước', 'Kích thướt trung bình'])\n",
    "\n",
    "for ten_thu_muc in os.listdir(folder_path):\n",
    "    duong_dan_thu_muc = os.path.join(folder_path, ten_thu_muc)\n",
    "    print(\"-\"*100)\n",
    "    print(ten_thu_muc)\n",
    "    tong_so_hinh_anh, tong_kich_thuoc, trung_binh_kich_thuoc = thong_ke_kich_thuoc(duong_dan_thu_muc)\n",
    "    sheet.append([ten_thu_muc, tong_so_hinh_anh, tong_kich_thuoc, trung_binh_kich_thuoc])\n",
    "    \n",
    "# Lưu workbook\n",
    "wb.save('dimensions.xlsx')"
   ]
  }
 ],
 "metadata": {
  "kernelspec": {
   "display_name": "Python 3 (ipykernel)",
   "language": "python",
   "name": "python3"
  },
  "language_info": {
   "codemirror_mode": {
    "name": "ipython",
    "version": 3
   },
   "file_extension": ".py",
   "mimetype": "text/x-python",
   "name": "python",
   "nbconvert_exporter": "python",
   "pygments_lexer": "ipython3",
   "version": "3.8.8"
  }
 },
 "nbformat": 4,
 "nbformat_minor": 5
}
